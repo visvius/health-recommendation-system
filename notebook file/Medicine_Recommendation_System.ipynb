{
  "cells": [
    {
      "cell_type": "markdown",
      "id": "c755214a",
      "metadata": {
        "id": "c755214a"
      },
      "source": [
        "# Title: Personalized Medical Recommendation System with Machine Learning\n",
        "\n",
        "\n",
        "# Description:\n",
        "\n",
        "Welcome to our cutting-edge Personalized Medical Recommendation System, a powerful platform designed to assist users in understanding and managing their health. Leveraging the capabilities of machine learning, our system analyzes user-input symptoms to predict potential diseases accurately."
      ]
    },
    {
      "cell_type": "markdown",
      "id": "db119e1e",
      "metadata": {
        "id": "db119e1e"
      },
      "source": [
        "# Load dataset & tools"
      ]
    },
    {
      "cell_type": "code",
      "execution_count": null,
      "id": "4e4766bf",
      "metadata": {
        "id": "4e4766bf"
      },
      "outputs": [],
      "source": [
        "import  pandas as pd\n",
        "import numpy as np"
      ]
    },
    {
      "cell_type": "code",
      "execution_count": null,
      "id": "56ce4778",
      "metadata": {
        "id": "56ce4778"
      },
      "outputs": [],
      "source": [
        "dataset = pd.read_csv('Training.csv')"
      ]
    },
    {
      "cell_type": "code",
      "execution_count": null,
      "id": "5f18d6d2",
      "metadata": {
        "id": "5f18d6d2",
        "outputId": "820d12ed-087b-4355-8618-a23f6639cef8",
        "colab": {
          "base_uri": "https://localhost:8080/",
          "height": 617
        }
      },
      "outputs": [
        {
          "output_type": "execute_result",
          "data": {
            "text/plain": [
              "      itching  skin_rash  nodal_skin_eruptions  continuous_sneezing  \\\n",
              "0           1          1                     1                    0   \n",
              "1           0          1                     1                    0   \n",
              "2           1          0                     1                    0   \n",
              "3           1          1                     0                    0   \n",
              "4           1          1                     1                    0   \n",
              "...       ...        ...                   ...                  ...   \n",
              "4915        0          0                     0                    0   \n",
              "4916        0          1                     0                    0   \n",
              "4917        0          0                     0                    0   \n",
              "4918        0          1                     0                    0   \n",
              "4919        0          1                     0                    0   \n",
              "\n",
              "      shivering  chills  joint_pain  stomach_pain  acidity  ulcers_on_tongue  \\\n",
              "0             0       0           0             0        0                 0   \n",
              "1             0       0           0             0        0                 0   \n",
              "2             0       0           0             0        0                 0   \n",
              "3             0       0           0             0        0                 0   \n",
              "4             0       0           0             0        0                 0   \n",
              "...         ...     ...         ...           ...      ...               ...   \n",
              "4915          0       0           0             0        0                 0   \n",
              "4916          0       0           0             0        0                 0   \n",
              "4917          0       0           0             0        0                 0   \n",
              "4918          0       0           1             0        0                 0   \n",
              "4919          0       0           0             0        0                 0   \n",
              "\n",
              "      ...  blackheads  scurring  skin_peeling  silver_like_dusting  \\\n",
              "0     ...           0         0             0                    0   \n",
              "1     ...           0         0             0                    0   \n",
              "2     ...           0         0             0                    0   \n",
              "3     ...           0         0             0                    0   \n",
              "4     ...           0         0             0                    0   \n",
              "...   ...         ...       ...           ...                  ...   \n",
              "4915  ...           0         0             0                    0   \n",
              "4916  ...           1         1             0                    0   \n",
              "4917  ...           0         0             0                    0   \n",
              "4918  ...           0         0             1                    1   \n",
              "4919  ...           0         0             0                    0   \n",
              "\n",
              "      small_dents_in_nails  inflammatory_nails  blister  red_sore_around_nose  \\\n",
              "0                        0                   0        0                     0   \n",
              "1                        0                   0        0                     0   \n",
              "2                        0                   0        0                     0   \n",
              "3                        0                   0        0                     0   \n",
              "4                        0                   0        0                     0   \n",
              "...                    ...                 ...      ...                   ...   \n",
              "4915                     0                   0        0                     0   \n",
              "4916                     0                   0        0                     0   \n",
              "4917                     0                   0        0                     0   \n",
              "4918                     1                   1        0                     0   \n",
              "4919                     0                   0        1                     1   \n",
              "\n",
              "      yellow_crust_ooze                                prognosis  \n",
              "0                     0                         Fungal infection  \n",
              "1                     0                         Fungal infection  \n",
              "2                     0                         Fungal infection  \n",
              "3                     0                         Fungal infection  \n",
              "4                     0                         Fungal infection  \n",
              "...                 ...                                      ...  \n",
              "4915                  0  (vertigo) Paroymsal  Positional Vertigo  \n",
              "4916                  0                                     Acne  \n",
              "4917                  0                  Urinary tract infection  \n",
              "4918                  0                                Psoriasis  \n",
              "4919                  1                                 Impetigo  \n",
              "\n",
              "[4920 rows x 133 columns]"
            ],
            "text/html": [
              "\n",
              "  <div id=\"df-f419e54b-74e1-42b9-8ac8-92efd83f7225\" class=\"colab-df-container\">\n",
              "    <div>\n",
              "<style scoped>\n",
              "    .dataframe tbody tr th:only-of-type {\n",
              "        vertical-align: middle;\n",
              "    }\n",
              "\n",
              "    .dataframe tbody tr th {\n",
              "        vertical-align: top;\n",
              "    }\n",
              "\n",
              "    .dataframe thead th {\n",
              "        text-align: right;\n",
              "    }\n",
              "</style>\n",
              "<table border=\"1\" class=\"dataframe\">\n",
              "  <thead>\n",
              "    <tr style=\"text-align: right;\">\n",
              "      <th></th>\n",
              "      <th>itching</th>\n",
              "      <th>skin_rash</th>\n",
              "      <th>nodal_skin_eruptions</th>\n",
              "      <th>continuous_sneezing</th>\n",
              "      <th>shivering</th>\n",
              "      <th>chills</th>\n",
              "      <th>joint_pain</th>\n",
              "      <th>stomach_pain</th>\n",
              "      <th>acidity</th>\n",
              "      <th>ulcers_on_tongue</th>\n",
              "      <th>...</th>\n",
              "      <th>blackheads</th>\n",
              "      <th>scurring</th>\n",
              "      <th>skin_peeling</th>\n",
              "      <th>silver_like_dusting</th>\n",
              "      <th>small_dents_in_nails</th>\n",
              "      <th>inflammatory_nails</th>\n",
              "      <th>blister</th>\n",
              "      <th>red_sore_around_nose</th>\n",
              "      <th>yellow_crust_ooze</th>\n",
              "      <th>prognosis</th>\n",
              "    </tr>\n",
              "  </thead>\n",
              "  <tbody>\n",
              "    <tr>\n",
              "      <th>0</th>\n",
              "      <td>1</td>\n",
              "      <td>1</td>\n",
              "      <td>1</td>\n",
              "      <td>0</td>\n",
              "      <td>0</td>\n",
              "      <td>0</td>\n",
              "      <td>0</td>\n",
              "      <td>0</td>\n",
              "      <td>0</td>\n",
              "      <td>0</td>\n",
              "      <td>...</td>\n",
              "      <td>0</td>\n",
              "      <td>0</td>\n",
              "      <td>0</td>\n",
              "      <td>0</td>\n",
              "      <td>0</td>\n",
              "      <td>0</td>\n",
              "      <td>0</td>\n",
              "      <td>0</td>\n",
              "      <td>0</td>\n",
              "      <td>Fungal infection</td>\n",
              "    </tr>\n",
              "    <tr>\n",
              "      <th>1</th>\n",
              "      <td>0</td>\n",
              "      <td>1</td>\n",
              "      <td>1</td>\n",
              "      <td>0</td>\n",
              "      <td>0</td>\n",
              "      <td>0</td>\n",
              "      <td>0</td>\n",
              "      <td>0</td>\n",
              "      <td>0</td>\n",
              "      <td>0</td>\n",
              "      <td>...</td>\n",
              "      <td>0</td>\n",
              "      <td>0</td>\n",
              "      <td>0</td>\n",
              "      <td>0</td>\n",
              "      <td>0</td>\n",
              "      <td>0</td>\n",
              "      <td>0</td>\n",
              "      <td>0</td>\n",
              "      <td>0</td>\n",
              "      <td>Fungal infection</td>\n",
              "    </tr>\n",
              "    <tr>\n",
              "      <th>2</th>\n",
              "      <td>1</td>\n",
              "      <td>0</td>\n",
              "      <td>1</td>\n",
              "      <td>0</td>\n",
              "      <td>0</td>\n",
              "      <td>0</td>\n",
              "      <td>0</td>\n",
              "      <td>0</td>\n",
              "      <td>0</td>\n",
              "      <td>0</td>\n",
              "      <td>...</td>\n",
              "      <td>0</td>\n",
              "      <td>0</td>\n",
              "      <td>0</td>\n",
              "      <td>0</td>\n",
              "      <td>0</td>\n",
              "      <td>0</td>\n",
              "      <td>0</td>\n",
              "      <td>0</td>\n",
              "      <td>0</td>\n",
              "      <td>Fungal infection</td>\n",
              "    </tr>\n",
              "    <tr>\n",
              "      <th>3</th>\n",
              "      <td>1</td>\n",
              "      <td>1</td>\n",
              "      <td>0</td>\n",
              "      <td>0</td>\n",
              "      <td>0</td>\n",
              "      <td>0</td>\n",
              "      <td>0</td>\n",
              "      <td>0</td>\n",
              "      <td>0</td>\n",
              "      <td>0</td>\n",
              "      <td>...</td>\n",
              "      <td>0</td>\n",
              "      <td>0</td>\n",
              "      <td>0</td>\n",
              "      <td>0</td>\n",
              "      <td>0</td>\n",
              "      <td>0</td>\n",
              "      <td>0</td>\n",
              "      <td>0</td>\n",
              "      <td>0</td>\n",
              "      <td>Fungal infection</td>\n",
              "    </tr>\n",
              "    <tr>\n",
              "      <th>4</th>\n",
              "      <td>1</td>\n",
              "      <td>1</td>\n",
              "      <td>1</td>\n",
              "      <td>0</td>\n",
              "      <td>0</td>\n",
              "      <td>0</td>\n",
              "      <td>0</td>\n",
              "      <td>0</td>\n",
              "      <td>0</td>\n",
              "      <td>0</td>\n",
              "      <td>...</td>\n",
              "      <td>0</td>\n",
              "      <td>0</td>\n",
              "      <td>0</td>\n",
              "      <td>0</td>\n",
              "      <td>0</td>\n",
              "      <td>0</td>\n",
              "      <td>0</td>\n",
              "      <td>0</td>\n",
              "      <td>0</td>\n",
              "      <td>Fungal infection</td>\n",
              "    </tr>\n",
              "    <tr>\n",
              "      <th>...</th>\n",
              "      <td>...</td>\n",
              "      <td>...</td>\n",
              "      <td>...</td>\n",
              "      <td>...</td>\n",
              "      <td>...</td>\n",
              "      <td>...</td>\n",
              "      <td>...</td>\n",
              "      <td>...</td>\n",
              "      <td>...</td>\n",
              "      <td>...</td>\n",
              "      <td>...</td>\n",
              "      <td>...</td>\n",
              "      <td>...</td>\n",
              "      <td>...</td>\n",
              "      <td>...</td>\n",
              "      <td>...</td>\n",
              "      <td>...</td>\n",
              "      <td>...</td>\n",
              "      <td>...</td>\n",
              "      <td>...</td>\n",
              "      <td>...</td>\n",
              "    </tr>\n",
              "    <tr>\n",
              "      <th>4915</th>\n",
              "      <td>0</td>\n",
              "      <td>0</td>\n",
              "      <td>0</td>\n",
              "      <td>0</td>\n",
              "      <td>0</td>\n",
              "      <td>0</td>\n",
              "      <td>0</td>\n",
              "      <td>0</td>\n",
              "      <td>0</td>\n",
              "      <td>0</td>\n",
              "      <td>...</td>\n",
              "      <td>0</td>\n",
              "      <td>0</td>\n",
              "      <td>0</td>\n",
              "      <td>0</td>\n",
              "      <td>0</td>\n",
              "      <td>0</td>\n",
              "      <td>0</td>\n",
              "      <td>0</td>\n",
              "      <td>0</td>\n",
              "      <td>(vertigo) Paroymsal  Positional Vertigo</td>\n",
              "    </tr>\n",
              "    <tr>\n",
              "      <th>4916</th>\n",
              "      <td>0</td>\n",
              "      <td>1</td>\n",
              "      <td>0</td>\n",
              "      <td>0</td>\n",
              "      <td>0</td>\n",
              "      <td>0</td>\n",
              "      <td>0</td>\n",
              "      <td>0</td>\n",
              "      <td>0</td>\n",
              "      <td>0</td>\n",
              "      <td>...</td>\n",
              "      <td>1</td>\n",
              "      <td>1</td>\n",
              "      <td>0</td>\n",
              "      <td>0</td>\n",
              "      <td>0</td>\n",
              "      <td>0</td>\n",
              "      <td>0</td>\n",
              "      <td>0</td>\n",
              "      <td>0</td>\n",
              "      <td>Acne</td>\n",
              "    </tr>\n",
              "    <tr>\n",
              "      <th>4917</th>\n",
              "      <td>0</td>\n",
              "      <td>0</td>\n",
              "      <td>0</td>\n",
              "      <td>0</td>\n",
              "      <td>0</td>\n",
              "      <td>0</td>\n",
              "      <td>0</td>\n",
              "      <td>0</td>\n",
              "      <td>0</td>\n",
              "      <td>0</td>\n",
              "      <td>...</td>\n",
              "      <td>0</td>\n",
              "      <td>0</td>\n",
              "      <td>0</td>\n",
              "      <td>0</td>\n",
              "      <td>0</td>\n",
              "      <td>0</td>\n",
              "      <td>0</td>\n",
              "      <td>0</td>\n",
              "      <td>0</td>\n",
              "      <td>Urinary tract infection</td>\n",
              "    </tr>\n",
              "    <tr>\n",
              "      <th>4918</th>\n",
              "      <td>0</td>\n",
              "      <td>1</td>\n",
              "      <td>0</td>\n",
              "      <td>0</td>\n",
              "      <td>0</td>\n",
              "      <td>0</td>\n",
              "      <td>1</td>\n",
              "      <td>0</td>\n",
              "      <td>0</td>\n",
              "      <td>0</td>\n",
              "      <td>...</td>\n",
              "      <td>0</td>\n",
              "      <td>0</td>\n",
              "      <td>1</td>\n",
              "      <td>1</td>\n",
              "      <td>1</td>\n",
              "      <td>1</td>\n",
              "      <td>0</td>\n",
              "      <td>0</td>\n",
              "      <td>0</td>\n",
              "      <td>Psoriasis</td>\n",
              "    </tr>\n",
              "    <tr>\n",
              "      <th>4919</th>\n",
              "      <td>0</td>\n",
              "      <td>1</td>\n",
              "      <td>0</td>\n",
              "      <td>0</td>\n",
              "      <td>0</td>\n",
              "      <td>0</td>\n",
              "      <td>0</td>\n",
              "      <td>0</td>\n",
              "      <td>0</td>\n",
              "      <td>0</td>\n",
              "      <td>...</td>\n",
              "      <td>0</td>\n",
              "      <td>0</td>\n",
              "      <td>0</td>\n",
              "      <td>0</td>\n",
              "      <td>0</td>\n",
              "      <td>0</td>\n",
              "      <td>1</td>\n",
              "      <td>1</td>\n",
              "      <td>1</td>\n",
              "      <td>Impetigo</td>\n",
              "    </tr>\n",
              "  </tbody>\n",
              "</table>\n",
              "<p>4920 rows × 133 columns</p>\n",
              "</div>\n",
              "    <div class=\"colab-df-buttons\">\n",
              "\n",
              "  <div class=\"colab-df-container\">\n",
              "    <button class=\"colab-df-convert\" onclick=\"convertToInteractive('df-f419e54b-74e1-42b9-8ac8-92efd83f7225')\"\n",
              "            title=\"Convert this dataframe to an interactive table.\"\n",
              "            style=\"display:none;\">\n",
              "\n",
              "  <svg xmlns=\"http://www.w3.org/2000/svg\" height=\"24px\" viewBox=\"0 -960 960 960\">\n",
              "    <path d=\"M120-120v-720h720v720H120Zm60-500h600v-160H180v160Zm220 220h160v-160H400v160Zm0 220h160v-160H400v160ZM180-400h160v-160H180v160Zm440 0h160v-160H620v160ZM180-180h160v-160H180v160Zm440 0h160v-160H620v160Z\"/>\n",
              "  </svg>\n",
              "    </button>\n",
              "\n",
              "  <style>\n",
              "    .colab-df-container {\n",
              "      display:flex;\n",
              "      gap: 12px;\n",
              "    }\n",
              "\n",
              "    .colab-df-convert {\n",
              "      background-color: #E8F0FE;\n",
              "      border: none;\n",
              "      border-radius: 50%;\n",
              "      cursor: pointer;\n",
              "      display: none;\n",
              "      fill: #1967D2;\n",
              "      height: 32px;\n",
              "      padding: 0 0 0 0;\n",
              "      width: 32px;\n",
              "    }\n",
              "\n",
              "    .colab-df-convert:hover {\n",
              "      background-color: #E2EBFA;\n",
              "      box-shadow: 0px 1px 2px rgba(60, 64, 67, 0.3), 0px 1px 3px 1px rgba(60, 64, 67, 0.15);\n",
              "      fill: #174EA6;\n",
              "    }\n",
              "\n",
              "    .colab-df-buttons div {\n",
              "      margin-bottom: 4px;\n",
              "    }\n",
              "\n",
              "    [theme=dark] .colab-df-convert {\n",
              "      background-color: #3B4455;\n",
              "      fill: #D2E3FC;\n",
              "    }\n",
              "\n",
              "    [theme=dark] .colab-df-convert:hover {\n",
              "      background-color: #434B5C;\n",
              "      box-shadow: 0px 1px 3px 1px rgba(0, 0, 0, 0.15);\n",
              "      filter: drop-shadow(0px 1px 2px rgba(0, 0, 0, 0.3));\n",
              "      fill: #FFFFFF;\n",
              "    }\n",
              "  </style>\n",
              "\n",
              "    <script>\n",
              "      const buttonEl =\n",
              "        document.querySelector('#df-f419e54b-74e1-42b9-8ac8-92efd83f7225 button.colab-df-convert');\n",
              "      buttonEl.style.display =\n",
              "        google.colab.kernel.accessAllowed ? 'block' : 'none';\n",
              "\n",
              "      async function convertToInteractive(key) {\n",
              "        const element = document.querySelector('#df-f419e54b-74e1-42b9-8ac8-92efd83f7225');\n",
              "        const dataTable =\n",
              "          await google.colab.kernel.invokeFunction('convertToInteractive',\n",
              "                                                    [key], {});\n",
              "        if (!dataTable) return;\n",
              "\n",
              "        const docLinkHtml = 'Like what you see? Visit the ' +\n",
              "          '<a target=\"_blank\" href=https://colab.research.google.com/notebooks/data_table.ipynb>data table notebook</a>'\n",
              "          + ' to learn more about interactive tables.';\n",
              "        element.innerHTML = '';\n",
              "        dataTable['output_type'] = 'display_data';\n",
              "        await google.colab.output.renderOutput(dataTable, element);\n",
              "        const docLink = document.createElement('div');\n",
              "        docLink.innerHTML = docLinkHtml;\n",
              "        element.appendChild(docLink);\n",
              "      }\n",
              "    </script>\n",
              "  </div>\n",
              "\n",
              "\n",
              "<div id=\"df-8c0a7c19-88fc-4471-a348-edde1491a532\">\n",
              "  <button class=\"colab-df-quickchart\" onclick=\"quickchart('df-8c0a7c19-88fc-4471-a348-edde1491a532')\"\n",
              "            title=\"Suggest charts\"\n",
              "            style=\"display:none;\">\n",
              "\n",
              "<svg xmlns=\"http://www.w3.org/2000/svg\" height=\"24px\"viewBox=\"0 0 24 24\"\n",
              "     width=\"24px\">\n",
              "    <g>\n",
              "        <path d=\"M19 3H5c-1.1 0-2 .9-2 2v14c0 1.1.9 2 2 2h14c1.1 0 2-.9 2-2V5c0-1.1-.9-2-2-2zM9 17H7v-7h2v7zm4 0h-2V7h2v10zm4 0h-2v-4h2v4z\"/>\n",
              "    </g>\n",
              "</svg>\n",
              "  </button>\n",
              "\n",
              "<style>\n",
              "  .colab-df-quickchart {\n",
              "      --bg-color: #E8F0FE;\n",
              "      --fill-color: #1967D2;\n",
              "      --hover-bg-color: #E2EBFA;\n",
              "      --hover-fill-color: #174EA6;\n",
              "      --disabled-fill-color: #AAA;\n",
              "      --disabled-bg-color: #DDD;\n",
              "  }\n",
              "\n",
              "  [theme=dark] .colab-df-quickchart {\n",
              "      --bg-color: #3B4455;\n",
              "      --fill-color: #D2E3FC;\n",
              "      --hover-bg-color: #434B5C;\n",
              "      --hover-fill-color: #FFFFFF;\n",
              "      --disabled-bg-color: #3B4455;\n",
              "      --disabled-fill-color: #666;\n",
              "  }\n",
              "\n",
              "  .colab-df-quickchart {\n",
              "    background-color: var(--bg-color);\n",
              "    border: none;\n",
              "    border-radius: 50%;\n",
              "    cursor: pointer;\n",
              "    display: none;\n",
              "    fill: var(--fill-color);\n",
              "    height: 32px;\n",
              "    padding: 0;\n",
              "    width: 32px;\n",
              "  }\n",
              "\n",
              "  .colab-df-quickchart:hover {\n",
              "    background-color: var(--hover-bg-color);\n",
              "    box-shadow: 0 1px 2px rgba(60, 64, 67, 0.3), 0 1px 3px 1px rgba(60, 64, 67, 0.15);\n",
              "    fill: var(--button-hover-fill-color);\n",
              "  }\n",
              "\n",
              "  .colab-df-quickchart-complete:disabled,\n",
              "  .colab-df-quickchart-complete:disabled:hover {\n",
              "    background-color: var(--disabled-bg-color);\n",
              "    fill: var(--disabled-fill-color);\n",
              "    box-shadow: none;\n",
              "  }\n",
              "\n",
              "  .colab-df-spinner {\n",
              "    border: 2px solid var(--fill-color);\n",
              "    border-color: transparent;\n",
              "    border-bottom-color: var(--fill-color);\n",
              "    animation:\n",
              "      spin 1s steps(1) infinite;\n",
              "  }\n",
              "\n",
              "  @keyframes spin {\n",
              "    0% {\n",
              "      border-color: transparent;\n",
              "      border-bottom-color: var(--fill-color);\n",
              "      border-left-color: var(--fill-color);\n",
              "    }\n",
              "    20% {\n",
              "      border-color: transparent;\n",
              "      border-left-color: var(--fill-color);\n",
              "      border-top-color: var(--fill-color);\n",
              "    }\n",
              "    30% {\n",
              "      border-color: transparent;\n",
              "      border-left-color: var(--fill-color);\n",
              "      border-top-color: var(--fill-color);\n",
              "      border-right-color: var(--fill-color);\n",
              "    }\n",
              "    40% {\n",
              "      border-color: transparent;\n",
              "      border-right-color: var(--fill-color);\n",
              "      border-top-color: var(--fill-color);\n",
              "    }\n",
              "    60% {\n",
              "      border-color: transparent;\n",
              "      border-right-color: var(--fill-color);\n",
              "    }\n",
              "    80% {\n",
              "      border-color: transparent;\n",
              "      border-right-color: var(--fill-color);\n",
              "      border-bottom-color: var(--fill-color);\n",
              "    }\n",
              "    90% {\n",
              "      border-color: transparent;\n",
              "      border-bottom-color: var(--fill-color);\n",
              "    }\n",
              "  }\n",
              "</style>\n",
              "\n",
              "  <script>\n",
              "    async function quickchart(key) {\n",
              "      const quickchartButtonEl =\n",
              "        document.querySelector('#' + key + ' button');\n",
              "      quickchartButtonEl.disabled = true;  // To prevent multiple clicks.\n",
              "      quickchartButtonEl.classList.add('colab-df-spinner');\n",
              "      try {\n",
              "        const charts = await google.colab.kernel.invokeFunction(\n",
              "            'suggestCharts', [key], {});\n",
              "      } catch (error) {\n",
              "        console.error('Error during call to suggestCharts:', error);\n",
              "      }\n",
              "      quickchartButtonEl.classList.remove('colab-df-spinner');\n",
              "      quickchartButtonEl.classList.add('colab-df-quickchart-complete');\n",
              "    }\n",
              "    (() => {\n",
              "      let quickchartButtonEl =\n",
              "        document.querySelector('#df-8c0a7c19-88fc-4471-a348-edde1491a532 button');\n",
              "      quickchartButtonEl.style.display =\n",
              "        google.colab.kernel.accessAllowed ? 'block' : 'none';\n",
              "    })();\n",
              "  </script>\n",
              "</div>\n",
              "\n",
              "  <div id=\"id_dc5cc504-35bc-49f3-bfc9-a2c4566edc95\">\n",
              "    <style>\n",
              "      .colab-df-generate {\n",
              "        background-color: #E8F0FE;\n",
              "        border: none;\n",
              "        border-radius: 50%;\n",
              "        cursor: pointer;\n",
              "        display: none;\n",
              "        fill: #1967D2;\n",
              "        height: 32px;\n",
              "        padding: 0 0 0 0;\n",
              "        width: 32px;\n",
              "      }\n",
              "\n",
              "      .colab-df-generate:hover {\n",
              "        background-color: #E2EBFA;\n",
              "        box-shadow: 0px 1px 2px rgba(60, 64, 67, 0.3), 0px 1px 3px 1px rgba(60, 64, 67, 0.15);\n",
              "        fill: #174EA6;\n",
              "      }\n",
              "\n",
              "      [theme=dark] .colab-df-generate {\n",
              "        background-color: #3B4455;\n",
              "        fill: #D2E3FC;\n",
              "      }\n",
              "\n",
              "      [theme=dark] .colab-df-generate:hover {\n",
              "        background-color: #434B5C;\n",
              "        box-shadow: 0px 1px 3px 1px rgba(0, 0, 0, 0.15);\n",
              "        filter: drop-shadow(0px 1px 2px rgba(0, 0, 0, 0.3));\n",
              "        fill: #FFFFFF;\n",
              "      }\n",
              "    </style>\n",
              "    <button class=\"colab-df-generate\" onclick=\"generateWithVariable('dataset')\"\n",
              "            title=\"Generate code using this dataframe.\"\n",
              "            style=\"display:none;\">\n",
              "\n",
              "  <svg xmlns=\"http://www.w3.org/2000/svg\" height=\"24px\"viewBox=\"0 0 24 24\"\n",
              "       width=\"24px\">\n",
              "    <path d=\"M7,19H8.4L18.45,9,17,7.55,7,17.6ZM5,21V16.75L18.45,3.32a2,2,0,0,1,2.83,0l1.4,1.43a1.91,1.91,0,0,1,.58,1.4,1.91,1.91,0,0,1-.58,1.4L9.25,21ZM18.45,9,17,7.55Zm-12,3A5.31,5.31,0,0,0,4.9,8.1,5.31,5.31,0,0,0,1,6.5,5.31,5.31,0,0,0,4.9,4.9,5.31,5.31,0,0,0,6.5,1,5.31,5.31,0,0,0,8.1,4.9,5.31,5.31,0,0,0,12,6.5,5.46,5.46,0,0,0,6.5,12Z\"/>\n",
              "  </svg>\n",
              "    </button>\n",
              "    <script>\n",
              "      (() => {\n",
              "      const buttonEl =\n",
              "        document.querySelector('#id_dc5cc504-35bc-49f3-bfc9-a2c4566edc95 button.colab-df-generate');\n",
              "      buttonEl.style.display =\n",
              "        google.colab.kernel.accessAllowed ? 'block' : 'none';\n",
              "\n",
              "      buttonEl.onclick = () => {\n",
              "        google.colab.notebook.generateWithVariable('dataset');\n",
              "      }\n",
              "      })();\n",
              "    </script>\n",
              "  </div>\n",
              "\n",
              "    </div>\n",
              "  </div>\n"
            ],
            "application/vnd.google.colaboratory.intrinsic+json": {
              "type": "dataframe",
              "variable_name": "dataset"
            }
          },
          "metadata": {},
          "execution_count": 3
        }
      ],
      "source": [
        "dataset"
      ]
    },
    {
      "cell_type": "code",
      "execution_count": null,
      "id": "f49b2b12",
      "metadata": {
        "id": "f49b2b12"
      },
      "outputs": [],
      "source": [
        "# vals = dataset.values.flatten()"
      ]
    },
    {
      "cell_type": "code",
      "execution_count": null,
      "id": "a49049bd",
      "metadata": {
        "id": "a49049bd",
        "outputId": "45f7a9b9-5b64-4e6d-9b31-26c1d76f0358",
        "colab": {
          "base_uri": "https://localhost:8080/"
        }
      },
      "outputs": [
        {
          "output_type": "execute_result",
          "data": {
            "text/plain": [
              "(4920, 133)"
            ]
          },
          "metadata": {},
          "execution_count": 6
        }
      ],
      "source": [
        "dataset.shape"
      ]
    },
    {
      "cell_type": "code",
      "source": [
        "dataset['prognosis'].unique()"
      ],
      "metadata": {
        "colab": {
          "base_uri": "https://localhost:8080/"
        },
        "id": "g4A6LQ2pZUmL",
        "outputId": "34aaceb8-4ef8-4b81-a137-bd94428d042c"
      },
      "id": "g4A6LQ2pZUmL",
      "execution_count": null,
      "outputs": [
        {
          "output_type": "execute_result",
          "data": {
            "text/plain": [
              "array(['Fungal infection', 'Allergy', 'GERD', 'Chronic cholestasis',\n",
              "       'Drug Reaction', 'Peptic ulcer diseae', 'AIDS', 'Diabetes ',\n",
              "       'Gastroenteritis', 'Bronchial Asthma', 'Hypertension ', 'Migraine',\n",
              "       'Cervical spondylosis', 'Paralysis (brain hemorrhage)', 'Jaundice',\n",
              "       'Malaria', 'Chicken pox', 'Dengue', 'Typhoid', 'hepatitis A',\n",
              "       'Hepatitis B', 'Hepatitis C', 'Hepatitis D', 'Hepatitis E',\n",
              "       'Alcoholic hepatitis', 'Tuberculosis', 'Common Cold', 'Pneumonia',\n",
              "       'Dimorphic hemmorhoids(piles)', 'Heart attack', 'Varicose veins',\n",
              "       'Hypothyroidism', 'Hyperthyroidism', 'Hypoglycemia',\n",
              "       'Osteoarthristis', 'Arthritis',\n",
              "       '(vertigo) Paroymsal  Positional Vertigo', 'Acne',\n",
              "       'Urinary tract infection', 'Psoriasis', 'Impetigo'], dtype=object)"
            ]
          },
          "metadata": {},
          "execution_count": 7
        }
      ]
    },
    {
      "cell_type": "markdown",
      "id": "2db916ab",
      "metadata": {
        "id": "2db916ab"
      },
      "source": [
        "# Train-test split"
      ]
    },
    {
      "cell_type": "code",
      "execution_count": null,
      "id": "b1e9c647",
      "metadata": {
        "id": "b1e9c647"
      },
      "outputs": [],
      "source": [
        "from sklearn.model_selection import train_test_split\n",
        "from sklearn.preprocessing import LabelEncoder"
      ]
    },
    {
      "cell_type": "code",
      "execution_count": null,
      "id": "4cb2e972",
      "metadata": {
        "id": "4cb2e972",
        "collapsed": true
      },
      "outputs": [],
      "source": [
        "X = dataset.drop('prognosis', axis=1)\n",
        "y = dataset['prognosis']\n",
        "\n",
        "# ecoding prognonsis\n",
        "le = LabelEncoder()\n",
        "le.fit(y)\n",
        "Y = le.transform(y)\n",
        "\n",
        "X_train, X_test, Y_train, Y_test = train_test_split(X, Y, test_size=0.3, random_state=20)"
      ]
    },
    {
      "cell_type": "code",
      "source": [
        "X_train.shape, X_test.shape, Y_train.shape, Y_test.shape"
      ],
      "metadata": {
        "id": "A28B4ppfsLxH",
        "colab": {
          "base_uri": "https://localhost:8080/"
        },
        "outputId": "5ed77753-5d6e-48da-d6d6-5dfb7365ed50"
      },
      "id": "A28B4ppfsLxH",
      "execution_count": null,
      "outputs": [
        {
          "output_type": "execute_result",
          "data": {
            "text/plain": [
              "((3444, 132), (1476, 132), (3444,), (1476,))"
            ]
          },
          "metadata": {},
          "execution_count": 13
        }
      ]
    },
    {
      "cell_type": "markdown",
      "id": "1c1a9ed2",
      "metadata": {
        "id": "1c1a9ed2"
      },
      "source": [
        "# Training top models"
      ]
    },
    {
      "cell_type": "code",
      "execution_count": null,
      "id": "5b9c4a9e",
      "metadata": {
        "id": "5b9c4a9e",
        "outputId": "dd24363f-ad8a-41dd-8bfd-395f46d40f8b",
        "colab": {
          "base_uri": "https://localhost:8080/"
        }
      },
      "outputs": [
        {
          "output_type": "stream",
          "name": "stdout",
          "text": [
            "SVC Accuracy: 1.0\n",
            "SVC Confusion Matrix:\n",
            "[[40,  0,  0, ...,  0,  0,  0],\n",
            " [ 0, 43,  0, ...,  0,  0,  0],\n",
            " [ 0,  0, 28, ...,  0,  0,  0],\n",
            " ...,\n",
            " [ 0,  0,  0, ..., 34,  0,  0],\n",
            " [ 0,  0,  0, ...,  0, 41,  0],\n",
            " [ 0,  0,  0, ...,  0,  0, 31]]\n",
            "\n",
            "========================================\n",
            "\n",
            "RandomForest Accuracy: 1.0\n",
            "RandomForest Confusion Matrix:\n",
            "[[40,  0,  0, ...,  0,  0,  0],\n",
            " [ 0, 43,  0, ...,  0,  0,  0],\n",
            " [ 0,  0, 28, ...,  0,  0,  0],\n",
            " ...,\n",
            " [ 0,  0,  0, ..., 34,  0,  0],\n",
            " [ 0,  0,  0, ...,  0, 41,  0],\n",
            " [ 0,  0,  0, ...,  0,  0, 31]]\n",
            "\n",
            "========================================\n",
            "\n",
            "GradientBoosting Accuracy: 1.0\n",
            "GradientBoosting Confusion Matrix:\n",
            "[[40,  0,  0, ...,  0,  0,  0],\n",
            " [ 0, 43,  0, ...,  0,  0,  0],\n",
            " [ 0,  0, 28, ...,  0,  0,  0],\n",
            " ...,\n",
            " [ 0,  0,  0, ..., 34,  0,  0],\n",
            " [ 0,  0,  0, ...,  0, 41,  0],\n",
            " [ 0,  0,  0, ...,  0,  0, 31]]\n",
            "\n",
            "========================================\n",
            "\n",
            "KNeighbors Accuracy: 1.0\n",
            "KNeighbors Confusion Matrix:\n",
            "[[40,  0,  0, ...,  0,  0,  0],\n",
            " [ 0, 43,  0, ...,  0,  0,  0],\n",
            " [ 0,  0, 28, ...,  0,  0,  0],\n",
            " ...,\n",
            " [ 0,  0,  0, ..., 34,  0,  0],\n",
            " [ 0,  0,  0, ...,  0, 41,  0],\n",
            " [ 0,  0,  0, ...,  0,  0, 31]]\n",
            "\n",
            "========================================\n",
            "\n",
            "MultinomialNB Accuracy: 1.0\n",
            "MultinomialNB Confusion Matrix:\n",
            "[[40,  0,  0, ...,  0,  0,  0],\n",
            " [ 0, 43,  0, ...,  0,  0,  0],\n",
            " [ 0,  0, 28, ...,  0,  0,  0],\n",
            " ...,\n",
            " [ 0,  0,  0, ..., 34,  0,  0],\n",
            " [ 0,  0,  0, ...,  0, 41,  0],\n",
            " [ 0,  0,  0, ...,  0,  0, 31]]\n",
            "\n",
            "========================================\n",
            "\n"
          ]
        }
      ],
      "source": [
        "from sklearn.datasets import make_classification\n",
        "from sklearn.model_selection import train_test_split\n",
        "from sklearn.svm import SVC\n",
        "from sklearn.ensemble import RandomForestClassifier, GradientBoostingClassifier\n",
        "from sklearn.neighbors import KNeighborsClassifier\n",
        "from sklearn.naive_bayes import MultinomialNB\n",
        "from sklearn.metrics import accuracy_score, confusion_matrix\n",
        "\n",
        "\n",
        "# Create a dictionary to store models\n",
        "models = {\n",
        "    'SVC': SVC(kernel='linear'),\n",
        "    'RandomForest': RandomForestClassifier(n_estimators=100, random_state=42),\n",
        "    'GradientBoosting': GradientBoostingClassifier(n_estimators=100, random_state=42),\n",
        "    'KNeighbors': KNeighborsClassifier(n_neighbors=5),\n",
        "    'MultinomialNB': MultinomialNB()\n",
        "}\n",
        "\n",
        "# Loop through the models, train, test, and print results\n",
        "for model_name, model in models.items():\n",
        "    # Train the model\n",
        "    model.fit(X_train, Y_train)\n",
        "\n",
        "    # Test the model\n",
        "    predictions = model.predict(X_test)\n",
        "\n",
        "    # Calculate accuracy\n",
        "    accuracy = accuracy_score(Y_test, predictions)\n",
        "    print(f\"{model_name} Accuracy: {accuracy}\")\n",
        "\n",
        "    # Calculate confusion matrix\n",
        "    cm = confusion_matrix(Y_test, predictions)\n",
        "    print(f\"{model_name} Confusion Matrix:\")\n",
        "    print(np.array2string(cm, separator=', '))\n",
        "\n",
        "    print(\"\\n\" + \"=\"*40 + \"\\n\")\n"
      ]
    },
    {
      "cell_type": "markdown",
      "id": "36cee3c8",
      "metadata": {
        "id": "36cee3c8"
      },
      "source": [
        "# single prediction"
      ]
    },
    {
      "cell_type": "code",
      "execution_count": null,
      "id": "a74ad639",
      "metadata": {
        "id": "a74ad639",
        "outputId": "70f8d5c8-087e-4a5e-985a-1bd973bf5f9c",
        "colab": {
          "base_uri": "https://localhost:8080/"
        }
      },
      "outputs": [
        {
          "output_type": "execute_result",
          "data": {
            "text/plain": [
              "1.0"
            ]
          },
          "metadata": {},
          "execution_count": 25
        }
      ],
      "source": [
        "# selecting svc\n",
        "svc = SVC(kernel='linear')\n",
        "svc.fit(X_train, Y_train)\n",
        "ypred = svc.predict(X_test)\n",
        "accuracy_score(Y_test,ypred)"
      ]
    },
    {
      "cell_type": "code",
      "execution_count": null,
      "id": "fdd98daa",
      "metadata": {
        "id": "fdd98daa"
      },
      "outputs": [],
      "source": [
        "# save svc\n",
        "import pickle\n",
        "# pickle.dump(svc, open('svc.pkl','wb'))"
      ]
    },
    {
      "cell_type": "code",
      "execution_count": null,
      "id": "4dd13145",
      "metadata": {
        "id": "4dd13145"
      },
      "outputs": [],
      "source": [
        "# load model\n",
        "svcLoad = pickle.load(open('svc.pkl','rb'))"
      ]
    },
    {
      "cell_type": "code",
      "execution_count": null,
      "id": "8bf40f9d",
      "metadata": {
        "id": "8bf40f9d",
        "outputId": "ce82f0ab-f9af-416b-f009-fd86c24b0515",
        "colab": {
          "base_uri": "https://localhost:8080/"
        }
      },
      "outputs": [
        {
          "output_type": "stream",
          "name": "stdout",
          "text": [
            "predicted disease : [40]\n",
            "Actual Disease : 40\n"
          ]
        },
        {
          "output_type": "stream",
          "name": "stderr",
          "text": [
            "/usr/local/lib/python3.11/dist-packages/sklearn/utils/validation.py:2739: UserWarning: X does not have valid feature names, but SVC was fitted with feature names\n",
            "  warnings.warn(\n"
          ]
        }
      ],
      "source": [
        "# test 1:\n",
        "print(\"predicted disease :\",svcLoad.predict(X_test.iloc[0].values.reshape(1,-1)))\n",
        "print(\"Actual Disease :\", Y_test[0])"
      ]
    },
    {
      "cell_type": "code",
      "execution_count": null,
      "id": "786bfd1a",
      "metadata": {
        "id": "786bfd1a",
        "outputId": "6a07099b-2178-4840-f49a-bc508f6cb61f",
        "colab": {
          "base_uri": "https://localhost:8080/"
        }
      },
      "outputs": [
        {
          "output_type": "stream",
          "name": "stdout",
          "text": [
            "predicted disease : [39]\n",
            "Actual Disease : 39\n"
          ]
        },
        {
          "output_type": "stream",
          "name": "stderr",
          "text": [
            "/usr/local/lib/python3.11/dist-packages/sklearn/utils/validation.py:2739: UserWarning: X does not have valid feature names, but SVC was fitted with feature names\n",
            "  warnings.warn(\n"
          ]
        }
      ],
      "source": [
        "# test 2:\n",
        "print(\"predicted disease :\",svcLoad.predict(X_test.iloc[100].values.reshape(1,-1)))\n",
        "print(\"Actual Disease :\", Y_test[100])"
      ]
    },
    {
      "cell_type": "markdown",
      "id": "9ce6884a",
      "metadata": {
        "id": "9ce6884a"
      },
      "source": [
        "# Recommendation System and Prediction"
      ]
    },
    {
      "cell_type": "markdown",
      "id": "f53f59b8",
      "metadata": {
        "id": "f53f59b8"
      },
      "source": [
        "# Load database and use logic for recommendations"
      ]
    },
    {
      "cell_type": "code",
      "execution_count": null,
      "id": "767ed813",
      "metadata": {
        "id": "767ed813"
      },
      "outputs": [],
      "source": [
        "sym_des = pd.read_csv(\"symtoms_df.csv\")\n",
        "precautions = pd.read_csv(\"precautions_df.csv\")\n",
        "workout = pd.read_csv(\"workout_df.csv\")\n",
        "description = pd.read_csv(\"description.csv\")\n",
        "medications = pd.read_csv('medications.csv')\n",
        "diets = pd.read_csv(\"diets.csv\")"
      ]
    },
    {
      "cell_type": "code",
      "execution_count": null,
      "id": "6cb123a9",
      "metadata": {
        "id": "6cb123a9"
      },
      "outputs": [],
      "source": [
        "#============================================================\n",
        "# custom and helping functions\n",
        "#==========================helper funtions================\n",
        "def helper(dis):\n",
        "    desc = description[description['Disease'] == predicted_disease]['Description']\n",
        "    desc = \" \".join([w for w in desc])\n",
        "\n",
        "    pre = precautions[precautions['Disease'] == dis][['Precaution_1', 'Precaution_2', 'Precaution_3', 'Precaution_4']]\n",
        "    pre = [col for col in pre.values]\n",
        "\n",
        "    med = medications[medications['Disease'] == dis]['Medication']\n",
        "    med = [med for med in med.values]\n",
        "\n",
        "    die = diets[diets['Disease'] == dis]['Diet']\n",
        "    die = [die for die in die.values]\n",
        "\n",
        "    wrkout = workout[workout['disease'] == dis] ['workout']\n",
        "\n",
        "\n",
        "    return desc,pre,med,die,wrkout\n",
        "\n",
        "symptoms_dict = {'itching': 0, 'skin_rash': 1, 'nodal_skin_eruptions': 2, 'continuous_sneezing': 3, 'shivering': 4, 'chills': 5, 'joint_pain': 6, 'stomach_pain': 7, 'acidity': 8, 'ulcers_on_tongue': 9, 'muscle_wasting': 10, 'vomiting': 11, 'burning_micturition': 12, 'spotting_ urination': 13, 'fatigue': 14, 'weight_gain': 15, 'anxiety': 16, 'cold_hands_and_feets': 17, 'mood_swings': 18, 'weight_loss': 19, 'restlessness': 20, 'lethargy': 21, 'patches_in_throat': 22, 'irregular_sugar_level': 23, 'cough': 24, 'high_fever': 25, 'sunken_eyes': 26, 'breathlessness': 27, 'sweating': 28, 'dehydration': 29, 'indigestion': 30, 'headache': 31, 'yellowish_skin': 32, 'dark_urine': 33, 'nausea': 34, 'loss_of_appetite': 35, 'pain_behind_the_eyes': 36, 'back_pain': 37, 'constipation': 38, 'abdominal_pain': 39, 'diarrhoea': 40, 'mild_fever': 41, 'yellow_urine': 42, 'yellowing_of_eyes': 43, 'acute_liver_failure': 44, 'fluid_overload': 45, 'swelling_of_stomach': 46, 'swelled_lymph_nodes': 47, 'malaise': 48, 'blurred_and_distorted_vision': 49, 'phlegm': 50, 'throat_irritation': 51, 'redness_of_eyes': 52, 'sinus_pressure': 53, 'runny_nose': 54, 'congestion': 55, 'chest_pain': 56, 'weakness_in_limbs': 57, 'fast_heart_rate': 58, 'pain_during_bowel_movements': 59, 'pain_in_anal_region': 60, 'bloody_stool': 61, 'irritation_in_anus': 62, 'neck_pain': 63, 'dizziness': 64, 'cramps': 65, 'bruising': 66, 'obesity': 67, 'swollen_legs': 68, 'swollen_blood_vessels': 69, 'puffy_face_and_eyes': 70, 'enlarged_thyroid': 71, 'brittle_nails': 72, 'swollen_extremeties': 73, 'excessive_hunger': 74, 'extra_marital_contacts': 75, 'drying_and_tingling_lips': 76, 'slurred_speech': 77, 'knee_pain': 78, 'hip_joint_pain': 79, 'muscle_weakness': 80, 'stiff_neck': 81, 'swelling_joints': 82, 'movement_stiffness': 83, 'spinning_movements': 84, 'loss_of_balance': 85, 'unsteadiness': 86, 'weakness_of_one_body_side': 87, 'loss_of_smell': 88, 'bladder_discomfort': 89, 'foul_smell_of urine': 90, 'continuous_feel_of_urine': 91, 'passage_of_gases': 92, 'internal_itching': 93, 'toxic_look_(typhos)': 94, 'depression': 95, 'irritability': 96, 'muscle_pain': 97, 'altered_sensorium': 98, 'red_spots_over_body': 99, 'belly_pain': 100, 'abnormal_menstruation': 101, 'dischromic _patches': 102, 'watering_from_eyes': 103, 'increased_appetite': 104, 'polyuria': 105, 'family_history': 106, 'mucoid_sputum': 107, 'rusty_sputum': 108, 'lack_of_concentration': 109, 'visual_disturbances': 110, 'receiving_blood_transfusion': 111, 'receiving_unsterile_injections': 112, 'coma': 113, 'stomach_bleeding': 114, 'distention_of_abdomen': 115, 'history_of_alcohol_consumption': 116, 'fluid_overload.1': 117, 'blood_in_sputum': 118, 'prominent_veins_on_calf': 119, 'palpitations': 120, 'painful_walking': 121, 'pus_filled_pimples': 122, 'blackheads': 123, 'scurring': 124, 'skin_peeling': 125, 'silver_like_dusting': 126, 'small_dents_in_nails': 127, 'inflammatory_nails': 128, 'blister': 129, 'red_sore_around_nose': 130, 'yellow_crust_ooze': 131}\n",
        "# diseases_list = {15: 'Fungal infection', 4: 'Allergy', 16: 'GERD', 9: 'Chronic cholestasis', 14: 'Drug Reaction', 33: 'Peptic ulcer diseae', 1: 'AIDS', 12: 'Diabetes ', 17: 'Gastroenteritis', 6: 'Bronchial Asthma', 23: 'Hypertension ', 30: 'Migraine', 7: 'Cervical spondylosis', 32: 'Paralysis (brain hemorrhage)', 28: 'Jaundice', 29: 'Malaria', 8: 'Chicken pox', 11: 'Dengue', 37: 'Typhoid', 40: 'hepatitis A', 19: 'Hepatitis B', 20: 'Hepatitis C', 21: 'Hepatitis D', 22: 'Hepatitis E', 3: 'Alcoholic hepatitis', 36: 'Tuberculosis', 10: 'Common Cold', 34: 'Pneumonia', 13: 'Dimorphic hemmorhoids(piles)', 18: 'Heart attack', 39: 'Varicose veins', 26: 'Hypothyroidism', 24: 'Hyperthyroidism', 25: 'Hypoglycemia', 31: 'Osteoarthristis', 5: 'Arthritis', 0: '(vertigo) Paroymsal  Positional Vertigo', 2: 'Acne', 38: 'Urinary tract infection', 35: 'Psoriasis', 27: 'Impetigo'}\n",
        "diseases_list = dict(zip(le.transform(le.classes_), le.classes_))\n",
        "\n",
        "# Model Prediction function\n",
        "def get_predicted_value(patient_symptoms):\n",
        "    input_vector = np.zeros(len(symptoms_dict))\n",
        "    for item in patient_symptoms:\n",
        "        input_vector[symptoms_dict[item]] = 1\n",
        "    return diseases_list[svcLoad.predict([input_vector])[0]]"
      ]
    },
    {
      "cell_type": "code",
      "execution_count": null,
      "id": "a36b1e93",
      "metadata": {
        "id": "a36b1e93",
        "outputId": "61584990-8956-41a2-da45-a16ad71076ad",
        "colab": {
          "base_uri": "https://localhost:8080/"
        }
      },
      "outputs": [
        {
          "output_type": "stream",
          "name": "stdout",
          "text": [
            "Enter your symptoms.......itching, cough\n",
            "=================predicted disease============\n",
            "Fungal infection\n",
            "=================description==================\n",
            "Fungal infection is a common skin condition caused by fungi.\n",
            "=================precautions==================\n",
            "1 :  bath twice\n",
            "2 :  use detol or neem in bathing water\n",
            "3 :  keep infected area dry\n",
            "4 :  use clean cloths\n",
            "=================medications==================\n",
            "5 :  ['Antifungal Cream', 'Fluconazole', 'Terbinafine', 'Clotrimazole', 'Ketoconazole']\n",
            "=================workout==================\n",
            "6 :  Avoid sugary foods\n",
            "7 :  Consume probiotics\n",
            "8 :  Increase intake of garlic\n",
            "9 :  Include yogurt in diet\n",
            "10 :  Limit processed foods\n",
            "11 :  Stay hydrated\n",
            "12 :  Consume green tea\n",
            "13 :  Eat foods rich in zinc\n",
            "14 :  Include turmeric in diet\n",
            "15 :  Eat fruits and vegetables\n",
            "=================diets==================\n",
            "16 :  ['Antifungal Diet', 'Probiotics', 'Garlic', 'Coconut oil', 'Turmeric']\n"
          ]
        },
        {
          "output_type": "stream",
          "name": "stderr",
          "text": [
            "/usr/local/lib/python3.11/dist-packages/sklearn/utils/validation.py:2739: UserWarning: X does not have valid feature names, but SVC was fitted with feature names\n",
            "  warnings.warn(\n"
          ]
        }
      ],
      "source": [
        "# Test 1\n",
        "# Split the user's input into a list of symptoms (assuming they are comma-separated) # itching,skin_rash,nodal_skin_eruptions\n",
        "symptoms = input(\"Enter your symptoms.......\")\n",
        "user_symptoms = [s.strip() for s in symptoms.split(',')]\n",
        "# Remove any extra characters, if any\n",
        "user_symptoms = [symptom.strip(\"[]' \") for symptom in user_symptoms]\n",
        "predicted_disease = get_predicted_value(user_symptoms)\n",
        "\n",
        "desc, pre, med, die, wrkout = helper(predicted_disease)\n",
        "\n",
        "print(\"=================predicted disease============\")\n",
        "print(predicted_disease)\n",
        "print(\"=================description==================\")\n",
        "print(desc)\n",
        "print(\"=================precautions==================\")\n",
        "i = 1\n",
        "for p_i in pre[0]:\n",
        "    print(i, \": \", p_i)\n",
        "    i += 1\n",
        "\n",
        "print(\"=================medications==================\")\n",
        "for m_i in med:\n",
        "    print(i, \": \", m_i)\n",
        "    i += 1\n",
        "\n",
        "print(\"=================workout==================\")\n",
        "for w_i in wrkout:\n",
        "    print(i, \": \", w_i)\n",
        "    i += 1\n",
        "\n",
        "print(\"=================diets==================\")\n",
        "for d_i in die:\n",
        "    print(i, \": \", d_i)\n",
        "    i += 1\n"
      ]
    },
    {
      "cell_type": "code",
      "execution_count": null,
      "id": "2d7ee79b",
      "metadata": {
        "id": "2d7ee79b",
        "outputId": "224428e3-de09-40e5-afe1-e97fdc813614"
      },
      "outputs": [
        {
          "name": "stdout",
          "output_type": "stream",
          "text": [
            "Enter your symptoms.......yellow_crust_ooze,red_sore_around_nose,small_dents_in_nails,inflammatory_nails,blister\n",
            "=================predicted disease============\n",
            "Impetigo\n",
            "=================description==================\n",
            "Impetigo is a highly contagious skin infection causing red sores that can break open.\n",
            "=================precautions==================\n",
            "1 :  soak affected area in warm water\n",
            "2 :  use antibiotics\n",
            "3 :  remove scabs with wet compressed cloth\n",
            "4 :  consult doctor\n",
            "=================medications==================\n",
            "5 :  ['Topical antibiotics', 'Oral antibiotics', 'Antiseptics', 'Ointments', 'Warm compresses']\n",
            "=================workout==================\n",
            "6 :  Maintain good hygiene\n",
            "7 :  Stay hydrated\n",
            "8 :  Consume nutrient-rich foods\n",
            "9 :  Limit sugary foods and beverages\n",
            "10 :  Include foods rich in vitamin C\n",
            "11 :  Consult a healthcare professional\n",
            "12 :  Follow medical recommendations\n",
            "13 :  Avoid scratching\n",
            "14 :  Take prescribed antibiotics\n",
            "15 :  Practice wound care\n",
            "=================diets==================\n",
            "16 :  ['Impetigo Diet', 'Antibiotic treatment', 'Fruits and vegetables', 'Hydration', 'Protein-rich foods']\n"
          ]
        },
        {
          "name": "stderr",
          "output_type": "stream",
          "text": [
            "C:\\Users\\naimat\\anaconda3\\lib\\site-packages\\sklearn\\base.py:465: UserWarning: X does not have valid feature names, but SVC was fitted with feature names\n",
            "  warnings.warn(\n"
          ]
        }
      ],
      "source": [
        "# Test 1\n",
        "# Split the user's input into a list of symptoms (assuming they are comma-separated) # yellow_crust_ooze,red_sore_around_nose,small_dents_in_nails,inflammatory_nails,blister\n",
        "symptoms = input(\"Enter your symptoms.......\")\n",
        "user_symptoms = [s.strip() for s in symptoms.split(',')]\n",
        "# Remove any extra characters, if any\n",
        "user_symptoms = [symptom.strip(\"[]' \") for symptom in user_symptoms]\n",
        "predicted_disease = get_predicted_value(user_symptoms)\n",
        "\n",
        "desc, pre, med, die, wrkout = helper(predicted_disease)\n",
        "\n",
        "print(\"=================predicted disease============\")\n",
        "print(predicted_disease)\n",
        "print(\"=================description==================\")\n",
        "print(desc)\n",
        "print(\"=================precautions==================\")\n",
        "i = 1\n",
        "for p_i in pre[0]:\n",
        "    print(i, \": \", p_i)\n",
        "    i += 1\n",
        "\n",
        "print(\"=================medications==================\")\n",
        "for m_i in med:\n",
        "    print(i, \": \", m_i)\n",
        "    i += 1\n",
        "\n",
        "print(\"=================workout==================\")\n",
        "for w_i in wrkout:\n",
        "    print(i, \": \", w_i)\n",
        "    i += 1\n",
        "\n",
        "print(\"=================diets==================\")\n",
        "for d_i in die:\n",
        "    print(i, \": \", d_i)\n",
        "    i += 1\n"
      ]
    },
    {
      "cell_type": "code",
      "execution_count": null,
      "id": "a8d5df35",
      "metadata": {
        "id": "a8d5df35",
        "outputId": "d45599b7-70c6-416a-c667-2479d46a63a7",
        "colab": {
          "base_uri": "https://localhost:8080/"
        }
      },
      "outputs": [
        {
          "output_type": "stream",
          "name": "stdout",
          "text": [
            "1.6.1\n"
          ]
        }
      ],
      "source": [
        "# let's use pycharm flask app\n",
        "# but install this version in pycharm\n",
        "import sklearn\n",
        "print(sklearn.__version__)"
      ]
    },
    {
      "cell_type": "code",
      "execution_count": null,
      "id": "97dfb973",
      "metadata": {
        "id": "97dfb973"
      },
      "outputs": [],
      "source": []
    }
  ],
  "metadata": {
    "kernelspec": {
      "display_name": "Python 3 (ipykernel)",
      "language": "python",
      "name": "python3"
    },
    "language_info": {
      "codemirror_mode": {
        "name": "ipython",
        "version": 3
      },
      "file_extension": ".py",
      "mimetype": "text/x-python",
      "name": "python",
      "nbconvert_exporter": "python",
      "pygments_lexer": "ipython3",
      "version": "3.9.12"
    },
    "colab": {
      "provenance": []
    }
  },
  "nbformat": 4,
  "nbformat_minor": 5
}